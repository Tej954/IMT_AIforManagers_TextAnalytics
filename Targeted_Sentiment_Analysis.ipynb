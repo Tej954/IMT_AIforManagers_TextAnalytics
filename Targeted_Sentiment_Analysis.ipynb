{
  "nbformat": 4,
  "nbformat_minor": 0,
  "metadata": {
    "colab": {
      "provenance": []
    },
    "kernelspec": {
      "name": "python3",
      "display_name": "Python 3"
    },
    "language_info": {
      "name": "python"
    }
  },
  "cells": [
    {
      "cell_type": "code",
      "execution_count": 14,
      "metadata": {
        "colab": {
          "base_uri": "https://localhost:8080/"
        },
        "id": "ErksoZj5q655",
        "outputId": "5f776a4b-3956-4dd4-c690-fe929d3f009b"
      },
      "outputs": [
        {
          "output_type": "stream",
          "name": "stderr",
          "text": [
            "/usr/local/lib/python3.10/dist-packages/spacy/training/iob_utils.py:149: UserWarning: [W030] Some entities could not be aligned in the text \"The MX350 Drone by SkyHigh has amazing battery lif...\" with entities \"[(4, 14, 'PRODUCT'), (23, 30, 'BRAND'), (35, 48, '...\". Use `spacy.training.offsets_to_biluo_tags(nlp.make_doc(text), entities)` to check the alignment. Misaligned entities ('-') will be ignored during training.\n",
            "  warnings.warn(\n",
            "/usr/local/lib/python3.10/dist-packages/spacy/training/iob_utils.py:149: UserWarning: [W030] Some entities could not be aligned in the text \"SkyHigh's camera on the MX350 Drone is top-notch.\" with entities \"[(0, 7, 'BRAND'), (18, 28, 'FEATURE'), (32, 42, 'P...\". Use `spacy.training.offsets_to_biluo_tags(nlp.make_doc(text), entities)` to check the alignment. Misaligned entities ('-') will be ignored during training.\n",
            "  warnings.warn(\n"
          ]
        },
        {
          "output_type": "stream",
          "name": "stdout",
          "text": [
            "Model updated with new entities.\n"
          ]
        }
      ],
      "source": [
        "import spacy\n",
        "from spacy.training import Example\n",
        "\n",
        "# Load the spaCy model\n",
        "nlp = spacy.load(\"en_core_web_sm\")\n",
        "\n",
        "# Get the NER component\n",
        "ner = nlp.get_pipe(\"ner\")\n",
        "\n",
        "# Add new entity labels to the NER component\n",
        "new_entities = [\"PRODUCT\", \"FEATURE\", \"BRAND\"]\n",
        "for entity in new_entities:\n",
        "    ner.add_label(entity)\n",
        "\n",
        "# Example training data including the new entities\n",
        "TRAIN_DATA = [\n",
        "    (\"The MX350 Drone by SkyHigh has amazing battery life.\", {\"entities\": [(4, 14, \"PRODUCT\"), (23, 30, \"BRAND\"), (35, 48, \"FEATURE\")]}),\n",
        "    (\"SkyHigh's camera on the MX350 Drone is top-notch.\", {\"entities\": [(0, 7, \"BRAND\"), (18, 28, \"FEATURE\"), (32, 42, \"PRODUCT\")]}),\n",
        "]\n",
        "\n",
        "# Disable other pipeline components during training\n",
        "with nlp.disable_pipes(*[pipe for pipe in nlp.pipe_names if pipe != \"ner\"]):\n",
        "    optimizer = nlp.create_optimizer()\n",
        "\n",
        "    # Training loop\n",
        "    for itn in range(10):\n",
        "        for text, annotations in TRAIN_DATA:\n",
        "            doc = nlp.make_doc(text)\n",
        "            example = Example.from_dict(doc, annotations)\n",
        "            nlp.update([example], drop=0.5, sgd=optimizer)\n",
        "\n",
        "print(\"Model updated with new entities.\")\n"
      ]
    },
    {
      "cell_type": "code",
      "source": [
        "from textblob import TextBlob\n",
        "\n",
        "# Sentence with mixed reviews about the entities\n",
        "text = \"The MX350 Drone by SkyHigh has an impressive camera but disappointing battery life.\"\n",
        "\n",
        "# Process the sentence with the updated spaCy model to identify entities\n",
        "doc = nlp(text)\n",
        "\n",
        "# Analyze the overall sentiment of the sentence\n",
        "overall_sentiment = TextBlob(text).sentiment\n",
        "\n",
        "print(f\"Overall Sentence Sentiment: {'Positive' if overall_sentiment.polarity > 0 else 'Negative' if overall_sentiment.polarity < 0 else 'Neutral'}\")\n",
        "\n",
        "# Infer the sentiment towards each identified entity\n",
        "for ent in doc.ents:\n",
        "    # Assuming the overall sentence sentiment applies to each entity\n",
        "    # This is a simplification and may not hold in sentences with complex sentiments\n",
        "    print(f\"Entity: {ent.text}, Type: {ent.label_}, Inferred Sentiment: {'Positive' if overall_sentiment.polarity > 0 else 'Negative' if overall_sentiment.polarity < 0 else 'Neutral'}\")\n"
      ],
      "metadata": {
        "colab": {
          "base_uri": "https://localhost:8080/"
        },
        "id": "9-c5Xjnjrrm1",
        "outputId": "d0e6617c-82b9-47b9-f004-e3b24055beb0"
      },
      "execution_count": 16,
      "outputs": [
        {
          "output_type": "stream",
          "name": "stdout",
          "text": [
            "Overall Sentence Sentiment: Positive\n",
            "Entity: MX350 Drone, Type: ORG, Inferred Sentiment: Positive\n",
            "Entity: SkyHigh, Type: GPE, Inferred Sentiment: Positive\n"
          ]
        }
      ]
    },
    {
      "cell_type": "code",
      "source": [],
      "metadata": {
        "id": "EqxapAtAunuH"
      },
      "execution_count": null,
      "outputs": []
    }
  ]
}